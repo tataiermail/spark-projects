{
 "cells": [
  {
   "cell_type": "code",
   "execution_count": null,
   "metadata": {},
   "outputs": [],
   "source": [
    "from time import sleep\n",
    "from json import dumps\n",
    "#!pip install kafka-python, installing kafka pkg throws async variable name error exception.\n",
    "from kafka import *"
   ]
  },
  {
   "cell_type": "code",
   "execution_count": null,
   "metadata": {},
   "outputs": [],
   "source": [
    "topic_name = 'py-generate-stream'\n",
    "bootstrap_srvr = 'localhost:9092'\n",
    "\n",
    "producer = KafkaProducer(bootstrap_servers=[bootstrap_srvr],api_version=(0, 10, 1),\n",
    "                         value_serializer=lambda x:dumps(x).encode('utf-8'))"
   ]
  },
  {
   "cell_type": "code",
   "execution_count": null,
   "metadata": {},
   "outputs": [],
   "source": [
    "'''\n",
    "for e in range(1000):\n",
    "    data = {'number' : e}\n",
    "    producer.send(topic_name, value=data)\n",
    "    print(data)\n",
    "    sleep(5)\n",
    "'''"
   ]
  },
  {
   "cell_type": "markdown",
   "metadata": {},
   "source": [
    "## Tailing Files using Python\n",
    "### https://lethain.com/tailing-in-python/"
   ]
  },
  {
   "cell_type": "code",
   "execution_count": null,
   "metadata": {
    "scrolled": true
   },
   "outputs": [],
   "source": [
    "import time\n",
    "from optparse import OptionParser\n",
    "\n",
    "#logfile = 'C:\\\\Users\\\\suman\\\\AppData\\\\Local\\\\Microsoft\\\\CLR_v4.0\\\\UsageLogs\\\\notepad++.exe.log'\n",
    "logfile = 'C:\\kafka_2.12-2.4.0\\logs\\\\server.log'\n",
    "\n",
    "SLEEP_INTERVAL = 1.0\n",
    "\n",
    "def tail(fin):\n",
    "    #Listen for new lines added to file.\n",
    "    while True:\n",
    "        where = fin.tell()\n",
    "        line = fin.readline()\n",
    "        if not line:\n",
    "            time.sleep(SLEEP_INTERVAL)\n",
    "            fin.seek(where)\n",
    "        else:\n",
    "            yield line\n",
    "\n",
    "\n",
    "with open(logfile, 'r') as fin:\n",
    "    for line in tail(fin):\n",
    "        print(line.strip())\n",
    "        producer.send(topic_name, value=line)\n",
    "        time.sleep(SLEEP_INTERVAL)"
   ]
  },
  {
   "cell_type": "code",
   "execution_count": null,
   "metadata": {},
   "outputs": [],
   "source": []
  }
 ],
 "metadata": {
  "kernelspec": {
   "display_name": "Python 3",
   "language": "python",
   "name": "python3"
  },
  "language_info": {
   "codemirror_mode": {
    "name": "ipython",
    "version": 3
   },
   "file_extension": ".py",
   "mimetype": "text/x-python",
   "name": "python",
   "nbconvert_exporter": "python",
   "pygments_lexer": "ipython3",
   "version": "3.7.3"
  }
 },
 "nbformat": 4,
 "nbformat_minor": 2
}

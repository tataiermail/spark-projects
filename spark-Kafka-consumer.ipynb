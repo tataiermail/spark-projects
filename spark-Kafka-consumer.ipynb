{
 "cells": [
  {
   "cell_type": "markdown",
   "metadata": {},
   "source": [
    "### https://blog.ippon.tech/mongodb-and-apache-spark-getting-started-tutorial/"
   ]
  },
  {
   "cell_type": "code",
   "execution_count": 1,
   "metadata": {},
   "outputs": [],
   "source": [
    "import os, time\n",
    "os.environ['PYSPARK_SUBMIT_ARGS'] = '--packages org.apache.spark:spark-streaming-kafka-0-8_2.11:2.0.2 pyspark-shell'\n",
    "\n",
    "#    Spark\n",
    "from pyspark import SparkContext\n",
    "#    Spark SQL\n",
    "from pyspark.sql import *\n",
    "#    Spark Streaming\n",
    "from pyspark.streaming import StreamingContext\n",
    "#    Kafka\n",
    "from pyspark.streaming.kafka import KafkaUtils\n",
    "#    json parsing\n",
    "import json"
   ]
  },
  {
   "cell_type": "code",
   "execution_count": 2,
   "metadata": {},
   "outputs": [],
   "source": [
    "def transform(self, f):\n",
    "    return f(self)\n",
    "\n",
    "DataFrame.transform = transform\n",
    "#dir(DataFrame)"
   ]
  },
  {
   "cell_type": "code",
   "execution_count": 3,
   "metadata": {},
   "outputs": [],
   "source": [
    "sc = SparkContext(appName=\"PythonSparkStreamingKafka_RM_01\")\n",
    "sc.setLogLevel(\"WARN\")\n",
    "ssc = StreamingContext(sc, 30)\n",
    "\n",
    "topicname = 'py-generate-stream'"
   ]
  },
  {
   "cell_type": "code",
   "execution_count": 4,
   "metadata": {},
   "outputs": [],
   "source": [
    "# port 2181 = zookeeper, port 9092 = broker / bootstrap-server\n",
    "#\n",
    "\n",
    "#kafkaStream = KafkaUtils.createStream(ssc, 'test', '34.70.43.136:2181', {'twitter':1})\n",
    "#kafkaStream = KafkaUtils.createStream(ssc, '34.70.43.136:9092', 'consumer', {'test':1})\n",
    "#kafkaStream = KafkaUtils.createStream(ssc, '34.70.43.136:2181', 'consumer', {'test':1})\n",
    "#kafkaStream = KafkaUtils.createStream(ssc, 'localhost:2181', 'consumer-spark-app', {'sumantest':1})\n",
    "\n",
    "#Direct approach / No receivers:\n",
    "#working\n",
    "#directKafkaStream = KafkaUtils.createDirectStream(ssc, ['sumantest'], {\"bootstrap.servers\": 'localhost:9092'})\n",
    "directKafkaStream = KafkaUtils.createDirectStream(ssc, [topic_name], {\"bootstrap.servers\": 'localhost:9092'})\n",
    "\n",
    "'''\n",
    "#Google Cloud Kafka server:\n",
    "directKafkaStream = KafkaUtils.createDirectStream(ssc, ['test'], {\"bootstrap.servers\": '34.70.28.62:9092'})\n",
    "GCP connection throws Error:\n",
    "An error occurred while calling o32.createDirectStreamWithoutMessageHandler\n",
    "SparkException: java.nio.channels.ClosedChannelException\n",
    "\n",
    "Possible root-cause => in kafka server.properties file have to setup external listener and restart server process.\n",
    "As I am using free GCP kafka vm with ephemeral IP, this is too much headache, using localhost kafka instead.\n",
    "'''\n",
    "\n",
    "#print(type(kafkaStream))\n",
    "directKafkaStream.pprint()"
   ]
  },
  {
   "cell_type": "code",
   "execution_count": 5,
   "metadata": {},
   "outputs": [],
   "source": [
    "#lines = directKafkaStream.map(lambda x: x)\n",
    "#lines.pprint()"
   ]
  },
  {
   "cell_type": "code",
   "execution_count": null,
   "metadata": {
    "scrolled": true
   },
   "outputs": [],
   "source": [
    "ssc.start()\n",
    "#time.sleep(30)\n",
    "ssc.awaitTermination()"
   ]
  },
  {
   "cell_type": "code",
   "execution_count": null,
   "metadata": {},
   "outputs": [],
   "source": [
    "ssc.stop(stopSparkContext=True,stopGraceFully=True)"
   ]
  }
 ],
 "metadata": {
  "kernelspec": {
   "display_name": "Python 3",
   "language": "python",
   "name": "python3"
  },
  "language_info": {
   "codemirror_mode": {
    "name": "ipython",
    "version": 3
   },
   "file_extension": ".py",
   "mimetype": "text/x-python",
   "name": "python",
   "nbconvert_exporter": "python",
   "pygments_lexer": "ipython3",
   "version": "3.7.3"
  }
 },
 "nbformat": 4,
 "nbformat_minor": 2
}
